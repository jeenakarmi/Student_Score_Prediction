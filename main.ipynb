{
 "cells": [
  {
   "cell_type": "code",
   "execution_count": null,
   "metadata": {},
   "outputs": [],
   "source": [
    "# Installing necessary libraries\n",
    "\n",
    "%pip install numpy\n",
    "%pip install pandas\n",
    "%pip install matplotlib\n",
    "%pip install seaborn\n",
    "%pip install scikit-learn\n",
    "%pip install openpyxl"
   ]
  },
  {
   "cell_type": "code",
   "execution_count": 10,
   "metadata": {},
   "outputs": [],
   "source": [
    "# Importing necessary libraries\n",
    "\n",
    "import numpy as np\n",
    "import pandas as pd\n",
    "import matplotlib as mpl\n",
    "import matplotlib.pyplot as plt\n",
    "import seaborn as sns\n",
    "\n",
    "from sklearn.model_selection import train_test_split\n",
    "from sklearn.ensemble import RandomForestClassifier\n",
    "from sklearn.ensemble import RandomForestRegressor\n",
    "from sklearn.metrics import accuracy_score,mean_squared_error, r2_score\n"
   ]
  },
  {
   "cell_type": "code",
   "execution_count": null,
   "metadata": {},
   "outputs": [],
   "source": [
    "# Loading dataset\n",
    "data = pd.read_csv(\"Data/Student_performance_data-_.csv\")\n",
    "data.head(5) #prints top 5"
   ]
  },
  {
   "cell_type": "markdown",
   "metadata": {},
   "source": []
  },
  {
   "cell_type": "code",
   "execution_count": 12,
   "metadata": {},
   "outputs": [],
   "source": [
    "# split the data for testing and training\n",
    "independentData = data.drop(columns=['GPA', 'GradeClass', 'StudentID'], axis=1) # Features\n",
    "dependentData = data['GPA'] # Target\n",
    "independentTrainData, independentTestData, dependentTrainData, dependentTestData = train_test_split(independentData, dependentData, train_size=0.6, shuffle=True, random_state=47)\n",
    "independentTestData.to_csv(\"independentTest.csv\", index=False)\n",
    "independentTrainData.to_csv(\"independentTrain.csv\", index=False)\n",
    "dependentTestData.to_csv(\"dependentTest.csv\", index=False)\n",
    "dependentTrainData.to_csv(\"dependentTrain.csv\", index=False)\n"
   ]
  },
  {
   "cell_type": "markdown",
   "metadata": {},
   "source": [
    "## Model"
   ]
  },
  {
   "cell_type": "code",
   "execution_count": null,
   "metadata": {},
   "outputs": [],
   "source": [
    "StudentModel = RandomForestRegressor(random_state=47)\n",
    "StudentModel.fit(independentTrainData, dependentTrainData)\n",
    "gpa_predict = StudentModel.predict(independentTestData)\n",
    "print(type(independentTestData))\n",
    "print(gpa_predict)\n",
    "r_square = r2_score(dependentTestData, gpa_predict)\n",
    "mean_square_error = mean_squared_error(dependentTestData, gpa_predict)\n",
    "print(f\"mean sq error: {mean_square_error}\")\n",
    "print(f\"r_sqare: {r_square}\")\n"
   ]
  },
  {
   "cell_type": "markdown",
   "metadata": {},
   "source": [
    "### Optimize the Model"
   ]
  },
  {
   "cell_type": "code",
   "execution_count": null,
   "metadata": {},
   "outputs": [],
   "source": [
    "\n",
    "input_data = {}\n",
    "for feature in independentData.columns:\n",
    "    value = float(input(f\"Enter {feature}: \"))\n",
    "    input_data[feature] = [value]\n",
    "\n",
    "# Convert the input into a DataFrame\n",
    "input_df = pd.DataFrame(input_data)\n",
    "\n",
    "# Predict the score\n",
    "predicted_score = StudentModel.predict(input_df)\n",
    "print(f\"The predicted score for the new student is: {predicted_score[0]}\")\n",
    "myInputDataFrame = pd.DataFrame(input_df)\n",
    "print(myInputDataFrame)\n",
    "my_gpa_predict = StudentModel.predict(myInputDataFrame)\n",
    "print(my_gpa_predict)"
   ]
  },
  {
   "cell_type": "code",
   "execution_count": null,
   "metadata": {},
   "outputs": [],
   "source": [
    "!pip install streamlit\n"
   ]
  },
  {
   "cell_type": "code",
   "execution_count": null,
   "metadata": {},
   "outputs": [],
   "source": [
    "import joblib\n",
    "\n",
    "# Save the trained model\n",
    "joblib.dump(StudentModel, 'random_forest_model.pkl')\n"
   ]
  }
 ],
 "metadata": {
  "kernelspec": {
   "display_name": "mlenv",
   "language": "python",
   "name": "python3"
  },
  "language_info": {
   "codemirror_mode": {
    "name": "ipython",
    "version": 3
   },
   "file_extension": ".py",
   "mimetype": "text/x-python",
   "name": "python",
   "nbconvert_exporter": "python",
   "pygments_lexer": "ipython3",
   "version": "3.12.5"
  }
 },
 "nbformat": 4,
 "nbformat_minor": 2
}
